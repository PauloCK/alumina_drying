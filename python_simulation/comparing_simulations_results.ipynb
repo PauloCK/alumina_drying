{
 "cells": [
  {
   "cell_type": "markdown",
   "metadata": {},
   "source": [
    "## Imports"
   ]
  },
  {
   "cell_type": "code",
   "execution_count": 1,
   "metadata": {},
   "outputs": [],
   "source": [
    "import numpy as np\n",
    "import pandas as pd"
   ]
  },
  {
   "cell_type": "markdown",
   "metadata": {},
   "source": [
    "## Custom functions"
   ]
  },
  {
   "cell_type": "code",
   "execution_count": 2,
   "metadata": {},
   "outputs": [],
   "source": [
    "def get_df_name(df):\n",
    "    name =[x for x in globals() if globals()[x] is df][0]\n",
    "    return name\n",
    "\n",
    "def add_suffix_to_df_cols(df):\n",
    "    suffix = get_df_name(df)[:-3]\n",
    "    df.columns = [f'{col}_{suffix}' if col != 'Tempo_min' else f'{col}' for col in df.columns]\n",
    "    return df\n",
    "\n",
    "def create_comparison_cols(df, var, pos):\n",
    "    df[f'diff_{var}_{pos}cm_p_s'] = 100*(abs(df[f'{var}_{pos}cm_python'] - df[f'{var}_{pos}cm_scilab'])) / np.maximum(abs(df[f'{var}_{pos}cm_python']), abs(df[f'{var}_{pos}cm_scilab']))\n",
    "    df[f'diff_{var}_{pos}cm_p_m'] = 100*(abs(df[f'{var}_{pos}cm_python'] - df[f'{var}_{pos}cm_matlab'])) / np.maximum(abs(df[f'{var}_{pos}cm_python']), abs(df[f'{var}_{pos}cm_matlab']))\n",
    "    df[f'diff_{var}_{pos}cm_s_m'] = 100*(abs(df[f'{var}_{pos}cm_scilab'] - df[f'{var}_{pos}cm_matlab'])) / np.maximum(abs(df[f'{var}_{pos}cm_scilab']), abs(df[f'{var}_{pos}cm_matlab']))\n",
    "\n",
    "    return df\n",
    "\n",
    "def create_statistics_df(df):\n",
    "    suffix = df.columns[0][-4:]\n",
    "    statistics_df = pd.DataFrame()\n",
    "\n",
    "    for var in ['X', 'T']:\n",
    "        for pos in [1,5,10]:\n",
    "            var_pos = f'{var}_{pos}cm'\n",
    "            statistics_df.at[var_pos, 'min_diff'] = min(df[f'diff_{var_pos}{suffix}'][2:])\n",
    "            statistics_df.at[var_pos, 'max_diff'] = max(df[f'diff_{var_pos}{suffix}'])\n",
    "            statistics_df.at[var_pos, 'mean_diff'] = np.mean(df[f'diff_{var_pos}{suffix}'])\n",
    "            statistics_df.at[var_pos, 'median_diff'] = np.median(df[f'diff_{var_pos}{suffix}'])\n",
    "\n",
    "    return statistics_df"
   ]
  },
  {
   "cell_type": "markdown",
   "metadata": {},
   "source": [
    "## Comparing simulations results"
   ]
  },
  {
   "cell_type": "code",
   "execution_count": 4,
   "metadata": {},
   "outputs": [],
   "source": [
    "scilab_df = pd.read_fwf('simulations_results/simulation_results_scilab.txt')\n",
    "matlab_df = pd.read_fwf('simulations_results/simulation_results_matlab.txt')\n",
    "python_df = pd.read_csv('simulations_results/simulation_results_python.csv')\n",
    "dfs = [scilab_df, matlab_df, python_df]\n",
    "\n",
    "for df in dfs:\n",
    "    add_suffix_to_df_cols(df)\n",
    "\n",
    "concat_df = pd.concat(dfs, axis=1)\n",
    "for var in ['X', 'T']:\n",
    "    for pos in [1,5,10]:\n",
    "        create_comparison_cols(concat_df, var, pos)\n",
    "\n",
    "diffs_s_m_df = concat_df[[col for col in concat_df.columns if 's_m' in col]]\n",
    "diffs_p_m_df = concat_df[[col for col in concat_df.columns if 'p_m' in col]]\n",
    "diffs_p_s_df = concat_df[[col for col in concat_df.columns if 'p_s' in col]]\n",
    "diffs_dfs = [diffs_s_m_df, diffs_p_m_df, diffs_p_s_df]\n",
    "for df in diffs_dfs:\n",
    "    suffix = df.columns[0][-4:]\n",
    "    statistics_df = create_statistics_df(df)\n",
    "    statistics_df.to_csv(f'simulations_results/statistics_df{suffix}.csv')"
   ]
  }
 ],
 "metadata": {
  "kernelspec": {
   "display_name": "Python 3.10.5 64-bit",
   "language": "python",
   "name": "python3"
  },
  "language_info": {
   "codemirror_mode": {
    "name": "ipython",
    "version": 3
   },
   "file_extension": ".py",
   "mimetype": "text/x-python",
   "name": "python",
   "nbconvert_exporter": "python",
   "pygments_lexer": "ipython3",
   "version": "3.10.5"
  },
  "orig_nbformat": 4,
  "vscode": {
   "interpreter": {
    "hash": "f42f955e7f8da3c548e302e1e5347a7e875359e0d4da102c4592ccaca30f562a"
   }
  }
 },
 "nbformat": 4,
 "nbformat_minor": 2
}
